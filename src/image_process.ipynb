{
 "cells": [
  {
   "cell_type": "code",
   "execution_count": 5,
   "metadata": {
    "collapsed": true
   },
   "outputs": [],
   "source": [
    "from numpy import log, trunc\n",
    "import config\n",
    "from utils.origin_data import DataFetcher\n",
    "from utils.origin_data_single import _DataFetcher\n",
    "from utils.data_utils import read_interpolated_data\n",
    "from PIL import Image\n",
    "import matplotlib.pyplot as plt # plt 用于显示图片\n",
    "import matplotlib.image as mpimg # mpimg 用于读取图片\n",
    "import numpy as np\n",
    "from config import RECONSTRUCTION_SAVE_PATH1"
   ]
  },
  {
   "cell_type": "code",
   "execution_count": 6,
   "outputs": [
    {
     "name": "stdout",
     "output_type": "stream",
     "text": [
      "Expecting:\n",
      " header_size: 256\n",
      " graph_size: 7647040\n",
      " fields_size: 29440\n",
      " total: 7676736\n",
      "Receiving: \n",
      " total: 7676736\n"
     ]
    }
   ],
   "source": [
    "path = config.HELICAL_FAN_CT_PATH1 + config.FILE_NAME_PREFIX1 + \"1010\" + \".DAT\"\n",
    "origin_data = DataFetcher.create_data_fetcher(path)\n",
    "f_origin_data = origin_data.data_buff\n",
    "f_zero_a = origin_data.zero_a\n",
    "f_zero_b = origin_data.zero_b\n",
    "f_full_a = origin_data.empty_a\n",
    "f_full_b = origin_data.empty_b\n",
    "n_width = origin_data.header.nWidth\n",
    "n_height = origin_data.header.nHeight"
   ],
   "metadata": {
    "collapsed": false,
    "pycharm": {
     "name": "#%%\n"
    }
   }
  },
  {
   "cell_type": "code",
   "execution_count": 7,
   "outputs": [
    {
     "data": {
      "text/plain": "\"\\nfor i in range(0, 8):\\n    f_proj_data = f_origin_data\\n    f_proj_data = f_proj_data.reshape(n_width, n_height)\\n    f_proj_data_first = f_proj_data[:, i*460:459+i*459]\\n    f_proj_data_first.shape\\n    max = f_proj_data_first.max()\\n    min = f_proj_data_first.min()\\n    proj_float = (f_proj_data_first - min) * 255 / (max - min)\\n    proj_float = np.trunc(proj_float)\\n    path = config.RECONSTRUCTION_SAVE_PATH1 + '//' + '0_' + str(i) + '.bmp'\\n    output_img = Image.fromarray(proj_float)\\n    output_img = output_img.convert('L')\\n    output_img.save(path)\\n\""
     },
     "execution_count": 7,
     "metadata": {},
     "output_type": "execute_result"
    }
   ],
   "source": [
    "'''\n",
    "for i in range(0, 8):\n",
    "    f_proj_data = f_origin_data\n",
    "    f_proj_data = f_proj_data.reshape(n_width, n_height)\n",
    "    f_proj_data_first = f_proj_data[:, i*460:459+i*459]\n",
    "    f_proj_data_first.shape\n",
    "    max = f_proj_data_first.max()\n",
    "    min = f_proj_data_first.min()\n",
    "    proj_float = (f_proj_data_first - min) * 255 / (max - min)\n",
    "    proj_float = np.trunc(proj_float)\n",
    "    path = config.RECONSTRUCTION_SAVE_PATH1 + '//' + '0_' + str(i) + '.bmp'\n",
    "    output_img = Image.fromarray(proj_float)\n",
    "    output_img = output_img.convert('L')\n",
    "    output_img.save(path)\n",
    "'''"
   ],
   "metadata": {
    "collapsed": false,
    "pycharm": {
     "name": "#%%\n"
    }
   }
  },
  {
   "cell_type": "code",
   "execution_count": 8,
   "outputs": [],
   "source": [
    "origin_interpolated_path = config.ORIGIN_INTERPOLATED_DATA_PATH + config.FILE_NAME_PREFIX1 + \"01\" + \".bin\"\n",
    "f_proj_data = read_interpolated_data(origin_interpolated_path)\n",
    "f_proj_data = f_proj_data.reshape(1000, n_height)\n",
    "for i in range(0, 8):\n",
    "    f_proj_data_first = f_proj_data[:, i*460:459+i*459]\n",
    "    f_proj_data_first.shape\n",
    "    max = f_proj_data_first.max()\n",
    "    min = f_proj_data_first.min()\n",
    "    proj_float = (f_proj_data_first - min) * 255 / (max - min)\n",
    "    proj_float = np.trunc(proj_float)\n",
    "    path = config.RECONSTRUCTION_SAVE_PATH1 + '//' + '0_' + str(i) + '.bmp'\n",
    "    output_img = Image.fromarray(proj_float)\n",
    "    output_img = output_img.convert('L')\n",
    "    output_img.save(path)"
   ],
   "metadata": {
    "collapsed": false,
    "pycharm": {
     "name": "#%%\n"
    }
   }
  }
 ],
 "metadata": {
  "kernelspec": {
   "display_name": "Python 3",
   "language": "python",
   "name": "python3"
  },
  "language_info": {
   "codemirror_mode": {
    "name": "ipython",
    "version": 2
   },
   "file_extension": ".py",
   "mimetype": "text/x-python",
   "name": "python",
   "nbconvert_exporter": "python",
   "pygments_lexer": "ipython2",
   "version": "2.7.6"
  }
 },
 "nbformat": 4,
 "nbformat_minor": 0
}