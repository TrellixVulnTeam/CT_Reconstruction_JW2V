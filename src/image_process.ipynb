{
 "cells": [
  {
   "cell_type": "code",
   "execution_count": 4,
   "metadata": {
    "collapsed": true
   },
   "outputs": [],
   "source": [
    "from numpy import log, trunc\n",
    "import config\n",
    "from utils.origin_data import DataFetcher\n",
    "from utils.origin_data_single import _DataFetcher\n",
    "from PIL import Image\n",
    "import matplotlib.pyplot as plt # plt 用于显示图片\n",
    "import matplotlib.image as mpimg # mpimg 用于读取图片\n",
    "import numpy as np\n",
    "from config import RECONSTRUCTION_SAVE_PATH1"
   ]
  },
  {
   "cell_type": "code",
   "execution_count": 6,
   "outputs": [
    {
     "name": "stdout",
     "output_type": "stream",
     "text": [
      "Expecting:\n",
      " header_size: 256\n",
      " graph_size: 7632320\n",
      " fields_size: 29440\n",
      " total: 7662016\n",
      "Receiving: \n",
      " total: 7662016\n"
     ]
    }
   ],
   "source": [
    "path = config.HELICAL_FAN_CT_PATH1 + config.FILE_NAME_PREFIX1 + \"01\" + \".DAT\"\n",
    "origin_data = DataFetcher.create_data_fetcher(path)\n",
    "f_origin_data = origin_data.data_buff\n",
    "f_zero_a = origin_data.zero_a\n",
    "f_zero_b = origin_data.zero_b\n",
    "f_full_a = origin_data.empty_a\n",
    "f_full_b = origin_data.empty_b\n",
    "n_width = origin_data.header.nWidth\n",
    "n_height = origin_data.header.nHeight"
   ],
   "metadata": {
    "collapsed": false,
    "pycharm": {
     "name": "#%%\n"
    }
   }
  },
  {
   "cell_type": "code",
   "execution_count": 7,
   "outputs": [
    {
     "ename": "ValueError",
     "evalue": "all the input arrays must have same number of dimensions, but the array at index 0 has 2 dimension(s) and the array at index 1 has 1 dimension(s)",
     "output_type": "error",
     "traceback": [
      "\u001B[1;31m---------------------------------------------------------------------------\u001B[0m",
      "\u001B[1;31mValueError\u001B[0m                                Traceback (most recent call last)",
      "\u001B[1;32m<ipython-input-7-b0bdf6302f41>\u001B[0m in \u001B[0;36m<module>\u001B[1;34m\u001B[0m\n\u001B[1;32m----> 1\u001B[1;33m \u001B[0mf_proj_data\u001B[0m \u001B[1;33m=\u001B[0m \u001B[0mDataFetcher\u001B[0m\u001B[1;33m.\u001B[0m\u001B[0mimage_pre\u001B[0m\u001B[1;33m(\u001B[0m\u001B[0mf_origin_data\u001B[0m\u001B[1;33m,\u001B[0m \u001B[0mf_zero_a\u001B[0m\u001B[1;33m,\u001B[0m \u001B[0mf_zero_b\u001B[0m\u001B[1;33m,\u001B[0m \u001B[0mf_full_a\u001B[0m\u001B[1;33m,\u001B[0m \u001B[0mf_full_b\u001B[0m\u001B[1;33m,\u001B[0m \u001B[0mn_width\u001B[0m\u001B[1;33m,\u001B[0m \u001B[0mn_height\u001B[0m\u001B[1;33m)\u001B[0m\u001B[1;33m\u001B[0m\u001B[1;33m\u001B[0m\u001B[0m\n\u001B[0m\u001B[0;32m      2\u001B[0m \u001B[0mf_proj_data\u001B[0m \u001B[1;33m=\u001B[0m \u001B[0mf_proj_data\u001B[0m\u001B[1;33m.\u001B[0m\u001B[0mreshape\u001B[0m\u001B[1;33m(\u001B[0m\u001B[0mn_width\u001B[0m\u001B[1;33m,\u001B[0m \u001B[0mn_height\u001B[0m\u001B[1;33m)\u001B[0m\u001B[1;33m\u001B[0m\u001B[1;33m\u001B[0m\u001B[0m\n\u001B[0;32m      3\u001B[0m \u001B[0mf_proj_data_first\u001B[0m \u001B[1;33m=\u001B[0m \u001B[0mf_proj_data\u001B[0m\u001B[1;33m[\u001B[0m\u001B[1;33m:\u001B[0m\u001B[1;33m,\u001B[0m \u001B[1;36m0\u001B[0m\u001B[1;33m:\u001B[0m\u001B[1;36m233\u001B[0m\u001B[1;33m]\u001B[0m\u001B[1;33m\u001B[0m\u001B[1;33m\u001B[0m\u001B[0m\n\u001B[0;32m      4\u001B[0m \u001B[0mf_proj_data_first\u001B[0m\u001B[1;33m.\u001B[0m\u001B[0mshape\u001B[0m\u001B[1;33m\u001B[0m\u001B[1;33m\u001B[0m\u001B[0m\n\u001B[0;32m      5\u001B[0m \u001B[1;33m\u001B[0m\u001B[0m\n",
      "\u001B[1;32mD:\\Study\\Graduation Design\\CT Reconstruction\\src\\utils\\origin_data.py\u001B[0m in \u001B[0;36mimage_pre\u001B[1;34m(data_graph, zA, zB, eA, eB, width, height)\u001B[0m\n\u001B[0;32m    166\u001B[0m         \u001B[0mtemp\u001B[0m \u001B[1;33m=\u001B[0m \u001B[1;36m0\u001B[0m\u001B[1;33m\u001B[0m\u001B[1;33m\u001B[0m\u001B[0m\n\u001B[0;32m    167\u001B[0m         \u001B[0mzero_matrix\u001B[0m \u001B[1;33m=\u001B[0m \u001B[0mzA\u001B[0m\u001B[1;33m\u001B[0m\u001B[1;33m\u001B[0m\u001B[0m\n\u001B[1;32m--> 168\u001B[1;33m         \u001B[0mfull_matrix\u001B[0m \u001B[1;33m=\u001B[0m \u001B[0meA\u001B[0m\u001B[1;33m\u001B[0m\u001B[1;33m\u001B[0m\u001B[0m\n\u001B[0m\u001B[0;32m    169\u001B[0m         \u001B[1;32mfor\u001B[0m \u001B[0mi\u001B[0m \u001B[1;32min\u001B[0m \u001B[0mrange\u001B[0m\u001B[1;33m(\u001B[0m\u001B[1;36m1\u001B[0m\u001B[1;33m,\u001B[0m \u001B[0mwidth\u001B[0m\u001B[1;33m)\u001B[0m\u001B[1;33m:\u001B[0m\u001B[1;33m\u001B[0m\u001B[1;33m\u001B[0m\u001B[0m\n\u001B[0;32m    170\u001B[0m             \u001B[0mzero_matrix\u001B[0m \u001B[1;33m=\u001B[0m \u001B[0mnp\u001B[0m\u001B[1;33m.\u001B[0m\u001B[0mappend\u001B[0m\u001B[1;33m(\u001B[0m\u001B[0mzero_matrix\u001B[0m\u001B[1;33m,\u001B[0m \u001B[0mzA\u001B[0m\u001B[1;33m,\u001B[0m \u001B[0maxis\u001B[0m\u001B[1;33m=\u001B[0m\u001B[1;36m1\u001B[0m\u001B[1;33m)\u001B[0m\u001B[1;33m\u001B[0m\u001B[1;33m\u001B[0m\u001B[0m\n",
      "\u001B[1;32m<__array_function__ internals>\u001B[0m in \u001B[0;36mappend\u001B[1;34m(*args, **kwargs)\u001B[0m\n",
      "\u001B[1;32md:\\study\\graduation design\\ct reconstruction\\venv36\\lib\\site-packages\\numpy\\lib\\function_base.py\u001B[0m in \u001B[0;36mappend\u001B[1;34m(arr, values, axis)\u001B[0m\n\u001B[0;32m   4669\u001B[0m         \u001B[0mvalues\u001B[0m \u001B[1;33m=\u001B[0m \u001B[0mravel\u001B[0m\u001B[1;33m(\u001B[0m\u001B[0mvalues\u001B[0m\u001B[1;33m)\u001B[0m\u001B[1;33m\u001B[0m\u001B[1;33m\u001B[0m\u001B[0m\n\u001B[0;32m   4670\u001B[0m         \u001B[0maxis\u001B[0m \u001B[1;33m=\u001B[0m \u001B[0marr\u001B[0m\u001B[1;33m.\u001B[0m\u001B[0mndim\u001B[0m\u001B[1;33m-\u001B[0m\u001B[1;36m1\u001B[0m\u001B[1;33m\u001B[0m\u001B[1;33m\u001B[0m\u001B[0m\n\u001B[1;32m-> 4671\u001B[1;33m     \u001B[1;32mreturn\u001B[0m \u001B[0mconcatenate\u001B[0m\u001B[1;33m(\u001B[0m\u001B[1;33m(\u001B[0m\u001B[0marr\u001B[0m\u001B[1;33m,\u001B[0m \u001B[0mvalues\u001B[0m\u001B[1;33m)\u001B[0m\u001B[1;33m,\u001B[0m \u001B[0maxis\u001B[0m\u001B[1;33m=\u001B[0m\u001B[0maxis\u001B[0m\u001B[1;33m)\u001B[0m\u001B[1;33m\u001B[0m\u001B[1;33m\u001B[0m\u001B[0m\n\u001B[0m\u001B[0;32m   4672\u001B[0m \u001B[1;33m\u001B[0m\u001B[0m\n\u001B[0;32m   4673\u001B[0m \u001B[1;33m\u001B[0m\u001B[0m\n",
      "\u001B[1;32m<__array_function__ internals>\u001B[0m in \u001B[0;36mconcatenate\u001B[1;34m(*args, **kwargs)\u001B[0m\n",
      "\u001B[1;31mValueError\u001B[0m: all the input arrays must have same number of dimensions, but the array at index 0 has 2 dimension(s) and the array at index 1 has 1 dimension(s)"
     ]
    }
   ],
   "source": [
    "f_proj_data = DataFetcher.image_pre(f_origin_data, f_zero_a, f_zero_b, f_full_a, f_full_b, n_width, n_height)\n",
    "f_proj_data = f_proj_data.reshape(n_width, n_height)\n",
    "f_proj_data_first = f_proj_data[:, 0:233]\n",
    "f_proj_data_first.shape"
   ],
   "metadata": {
    "collapsed": false,
    "pycharm": {
     "name": "#%%\n"
    }
   }
  },
  {
   "cell_type": "code",
   "execution_count": null,
   "outputs": [],
   "source": [
    "max = proj.max()\n",
    "min = proj.min()\n",
    "proj_float = (proj - min) * 255 / (max - min)\n",
    "proj_float = np.trunc(proj_float)\n",
    "path = config.RECONSTRUCTION_SAVE_PATH1 + '//' + '00' + '.bmp'\n",
    "output_img = Image.fromarray(proj_float)\n",
    "output_img = output_img.convert('L')\n",
    "output_img.save(path)"
   ],
   "metadata": {
    "collapsed": false,
    "pycharm": {
     "name": "#%%\n"
    }
   }
  },
  {
   "cell_type": "code",
   "execution_count": null,
   "outputs": [],
   "source": [],
   "metadata": {
    "collapsed": false,
    "pycharm": {
     "name": "#%%\n"
    }
   }
  }
 ],
 "metadata": {
  "kernelspec": {
   "display_name": "Python 3",
   "language": "python",
   "name": "python3"
  },
  "language_info": {
   "codemirror_mode": {
    "name": "ipython",
    "version": 2
   },
   "file_extension": ".py",
   "mimetype": "text/x-python",
   "name": "python",
   "nbconvert_exporter": "python",
   "pygments_lexer": "ipython2",
   "version": "2.7.6"
  }
 },
 "nbformat": 4,
 "nbformat_minor": 0
}