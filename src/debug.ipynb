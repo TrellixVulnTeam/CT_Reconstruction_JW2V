{
 "metadata": {
  "language_info": {
   "codemirror_mode": {
    "name": "ipython",
    "version": 3
   },
   "file_extension": ".py",
   "mimetype": "text/x-python",
   "name": "python",
   "nbconvert_exporter": "python",
   "pygments_lexer": "ipython3",
   "version": "3.6.8"
  },
  "orig_nbformat": 2,
  "kernelspec": {
   "name": "python3",
   "display_name": "Python 3.6.8 64-bit ('venv36': venv)",
   "metadata": {
    "interpreter": {
     "hash": "b292b4d1bbd2feee6c5097c2b0f5f00511db19c171796172eaaa8f8148696701"
    }
   }
  }
 },
 "nbformat": 4,
 "nbformat_minor": 2,
 "cells": [
  {
   "cell_type": "code",
   "execution_count": 7,
   "metadata": {},
   "outputs": [],
   "source": [
    "import pandas as pd\n",
    "import config\n",
    "from struct import *\n",
    "from ctypes import *\n",
    "from ctypes.wintypes import *\n",
    "'''\n",
    "struct DRGIMAGEHEADER {  \n",
    "   DWORD strType;\n",
    "   DWORD nVersion;\n",
    "   DWORD nWidth;\n",
    "   DWORD nHeight;\n",
    "   BYTE nCompression;\n",
    "   BYTE nBitsPerPixel;\n",
    "   BYTE strDate[8];\n",
    "   BYTE strTime[6];\n",
    "   WORD nDataOffset;\n",
    "   BYTE bCorrect;              \n",
    "   BYTE nDbtRgnCounts;\n",
    "   BYTE bChecked;\n",
    "   int nCompressLength;\n",
    "   WORD nScanTime;\n",
    "   WORD nCapSize;\n",
    "   DWORD nZeroPos;\n",
    "   double fStart;\n",
    "   double fend;  \n",
    "   double fSpeed;\n",
    "   double fTemp;\n",
    "   UINT  nTimeCount;\n",
    "   BYTE researve[162];\n",
    "};\n",
    "'''\n",
    "WORD = c_ushort\n",
    "DWORD = c_ulong\n",
    "BYTE = c_ubyte\n",
    "LPBYTE = POINTER(c_ubyte)\n",
    "LPTSTR = POINTER(c_char)\n",
    "HANDLE = c_void_p\n",
    "PVOID = c_void_p\n",
    "ULONG_PTR = c_ulong\n",
    "LPVOID = c_void_p\n",
    "UINT_PTR = c_ulong\n",
    "SIZE_T = c_ulong\n",
    "DWORD64 = c_ulonglong\n",
    "LONG = c_long\n",
    "\n",
    "class DRGIMAGEHEADER(Structure):\n",
    "    _pack_ = 1\n",
    "    _fields_ = [('strType', DWORD),\n",
    "               ('nVersion', DWORD),\n",
    "               ('nWidth', DWORD),\n",
    "               ('nHeight', DWORD),\n",
    "               ('nCompression', BYTE),\n",
    "               ('nBitsPerPixel', BYTE),\n",
    "               ('strDate', BYTE * 8),\n",
    "               ('strTime', BYTE * 6),\n",
    "               ('nDataOffset', WORD),\n",
    "               ('bCorrect', BYTE),\n",
    "               ('nDbtRgnCounts', BYTE),\n",
    "               ('bChecked', BYTE),\n",
    "               ('nCompressLength', c_int),\n",
    "               ('nScanTime', WORD),\n",
    "               ('nCapSize', WORD),\n",
    "               ('nZeroPos', DWORD),\n",
    "               ('fStart', c_double),\n",
    "               ('fend', c_double),\n",
    "               ('fSpeed', c_double),\n",
    "               ('fTemp', c_double),\n",
    "               ('nTimeCount', UINT),\n",
    "               ('researve', BYTE * 162),\n",
    "               ]"
   ]
  },
  {
   "cell_type": "code",
   "execution_count": 14,
   "metadata": {},
   "outputs": [
    {
     "output_type": "stream",
     "name": "stdout",
     "text": [
      "247\n(541545028, 90000, 1042, 3680, 0, 16, 50, 48, 50, 48, 49, 48, 49, 52, 49, 53, 53, 57, 48, 57, 256, 0, 0, 0, 0, 0, 34816, 8211, -1.0842025077198347e-19, 2.0367739281140143e-177, 1.8364736588483666e-307, 1.79570413737339e-307, 0, 240, 58, 64, 186, 88, 0, 0, 196, 1, 140, 119, 35, 0, 0, 0, 2, 2, 0, 0, 240, 255, 218, 52, 43, 0, 0, 0, 127, 2, 0, 0, 0, 0, 0, 0, 0, 0, 0, 0, 0, 0, 0, 0, 0, 0, 0, 0, 0, 0, 0, 0, 128, 31, 0, 0, 255, 255, 0, 0, 0, 0, 0, 0, 0, 0, 0, 0, 0, 0, 0, 0, 0, 0, 0, 0, 0, 0, 0, 0, 0, 0, 0, 0, 0, 0, 0, 0, 0, 0, 0, 0, 0, 0, 0, 0, 0, 0, 0, 0, 0, 0, 0, 0, 0, 0, 0, 0, 0, 0, 0, 0, 0, 0, 0, 0, 0, 0, 0, 0, 0, 0, 0, 0, 0, 0, 0, 0, 0, 0, 0, 0, 0, 0, 0, 0, 0, 0, 0, 0, 0, 0, 0, 0, 0, 0, 0, 0, 0, 0, 0, 0, 0, 0, 0, 0, 0, 0, 0, 0, 0, 0, 0)\n"
     ]
    }
   ],
   "source": [
    "path =  r\"D:\\Study\\Graduation Design\\CT Reconstruction\\data_src\\20201014014DAT\\202010140140001001.DAT\"\n",
    "data = DRGIMAGEHEADER()\n",
    "fmt = '<LLLLBB8B6BHBBBiHHLddddI162B'\n",
    "with open(path, 'rb') as f:\n",
    "    br = f.read()\n",
    "    header = br[0:sizeof(data)]\n",
    "    print(len(header))\n",
    "    a = unpack(fmt, header)\n",
    "    print(a)"
   ]
  },
  {
   "cell_type": "code",
   "execution_count": 14,
   "metadata": {},
   "outputs": [
    {
     "output_type": "error",
     "ename": "TypeError",
     "evalue": "object of type 'DRGIMAGEHEADER' has no len()",
     "traceback": [
      "\u001b[1;31m---------------------------------------------------------------------------\u001b[0m",
      "\u001b[1;31mTypeError\u001b[0m                                 Traceback (most recent call last)",
      "\u001b[1;32m<ipython-input-14-b9243403a1ff>\u001b[0m in \u001b[0;36m<module>\u001b[1;34m\u001b[0m\n\u001b[0;32m      1\u001b[0m \u001b[0mtar\u001b[0m \u001b[1;33m=\u001b[0m \u001b[0mDRGIMAGEHEADER\u001b[0m\u001b[1;33m(\u001b[0m\u001b[1;33m)\u001b[0m\u001b[1;33m\u001b[0m\u001b[1;33m\u001b[0m\u001b[0m\n\u001b[0;32m      2\u001b[0m \u001b[0mmemmove\u001b[0m\u001b[1;33m(\u001b[0m\u001b[0maddressof\u001b[0m\u001b[1;33m(\u001b[0m\u001b[0mtar\u001b[0m\u001b[1;33m)\u001b[0m\u001b[1;33m,\u001b[0m \u001b[0mbr\u001b[0m\u001b[1;33m,\u001b[0m \u001b[0msizeof\u001b[0m\u001b[1;33m(\u001b[0m\u001b[0mtar\u001b[0m\u001b[1;33m)\u001b[0m\u001b[1;33m)\u001b[0m\u001b[1;33m\u001b[0m\u001b[1;33m\u001b[0m\u001b[0m\n\u001b[1;32m----> 3\u001b[1;33m \u001b[0mlen\u001b[0m\u001b[1;33m(\u001b[0m\u001b[0mtar\u001b[0m\u001b[1;33m)\u001b[0m\u001b[1;33m\u001b[0m\u001b[1;33m\u001b[0m\u001b[0m\n\u001b[0m",
      "\u001b[1;31mTypeError\u001b[0m: object of type 'DRGIMAGEHEADER' has no len()"
     ]
    }
   ],
   "source": [
    "tar = DRGIMAGEHEADER()\n",
    "memmove(addressof(tar), br, sizeof(tar))\n",
    "len(tar)"
   ]
  },
  {
   "cell_type": "code",
   "execution_count": 8,
   "metadata": {},
   "outputs": [
    {
     "output_type": "error",
     "ename": "AttributeError",
     "evalue": "'DRGIMAGEHEADER' object has no attribute 'strType'",
     "traceback": [
      "\u001b[1;31m---------------------------------------------------------------------------\u001b[0m",
      "\u001b[1;31mAttributeError\u001b[0m                            Traceback (most recent call last)",
      "\u001b[1;32m<ipython-input-8-01c3583de24f>\u001b[0m in \u001b[0;36m<module>\u001b[1;34m\u001b[0m\n\u001b[1;32m----> 1\u001b[1;33m \u001b[0mtar\u001b[0m\u001b[1;33m.\u001b[0m\u001b[0mstrType\u001b[0m\u001b[1;33m\u001b[0m\u001b[1;33m\u001b[0m\u001b[0m\n\u001b[0m",
      "\u001b[1;31mAttributeError\u001b[0m: 'DRGIMAGEHEADER' object has no attribute 'strType'"
     ]
    }
   ],
   "source": [
    "tar.strType"
   ]
  },
  {
   "cell_type": "code",
   "execution_count": null,
   "metadata": {},
   "outputs": [],
   "source": []
  }
 ]
}